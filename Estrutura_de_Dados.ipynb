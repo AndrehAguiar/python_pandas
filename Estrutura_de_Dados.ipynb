{
  "nbformat": 4,
  "nbformat_minor": 0,
  "metadata": {
    "colab": {
      "name": "Estrutura_de_Dados.ipynb",
      "provenance": [],
      "collapsed_sections": []
    },
    "kernelspec": {
      "name": "python3",
      "display_name": "Python 3"
    },
    "language_info": {
      "name": "python"
    }
  },
  "cells": [
    {
      "cell_type": "markdown",
      "metadata": {
        "id": "GE8yC6nj1VoO"
      },
      "source": [
        "# Análise de dados com Python e Pandas\n",
        "## Aula 2: Estrutura de dados"
      ]
    },
    {
      "cell_type": "markdown",
      "metadata": {
        "id": "4lGQORh1194c"
      },
      "source": [
        "### Listas"
      ]
    },
    {
      "cell_type": "code",
      "metadata": {
        "id": "etarRJrIJ3Tv",
        "colab": {
          "base_uri": "https://localhost:8080/"
        },
        "outputId": "e65738a2-e8fa-4fae-d313-992e710c2925"
      },
      "source": [
        "#Cria uma lisa chamada animais\n",
        "animais = [1,2,3]\n",
        "animais"
      ],
      "execution_count": null,
      "outputs": [
        {
          "output_type": "execute_result",
          "data": {
            "text/plain": [
              "[1, 2, 3]"
            ]
          },
          "metadata": {},
          "execution_count": 1
        }
      ]
    },
    {
      "cell_type": "code",
      "metadata": {
        "colab": {
          "base_uri": "https://localhost:8080/"
        },
        "id": "8q6nLqI_2KeD",
        "outputId": "0d32df54-bb37-4401-bad1-47e8ec23fc74"
      },
      "source": [
        "animais = [\"cachorro\", \"gato\", 12345, 6.5]\n",
        "animais"
      ],
      "execution_count": null,
      "outputs": [
        {
          "output_type": "execute_result",
          "data": {
            "text/plain": [
              "['cachorro', 'gato', 12345, 6.5]"
            ]
          },
          "metadata": {},
          "execution_count": 2
        }
      ]
    },
    {
      "cell_type": "code",
      "metadata": {
        "colab": {
          "base_uri": "https://localhost:8080/",
          "height": 35
        },
        "id": "ge2U4tn12XKj",
        "outputId": "5b651fcb-3894-423c-b488-c18e55f0c4d4"
      },
      "source": [
        "#Imprime o primeiro elemento da lista\n",
        "animais[0]"
      ],
      "execution_count": null,
      "outputs": [
        {
          "output_type": "execute_result",
          "data": {
            "application/vnd.google.colaboratory.intrinsic+json": {
              "type": "string"
            },
            "text/plain": [
              "'cachorro'"
            ]
          },
          "metadata": {},
          "execution_count": 3
        }
      ]
    },
    {
      "cell_type": "code",
      "metadata": {
        "colab": {
          "base_uri": "https://localhost:8080/"
        },
        "id": "hkZmbtSh2jRR",
        "outputId": "d8547b2b-a243-44ce-b883-a2973978d8b9"
      },
      "source": [
        "#Imprime o quarto elemento da lista\n",
        "animais[3]"
      ],
      "execution_count": null,
      "outputs": [
        {
          "output_type": "execute_result",
          "data": {
            "text/plain": [
              "6.5"
            ]
          },
          "metadata": {},
          "execution_count": 4
        }
      ]
    },
    {
      "cell_type": "code",
      "metadata": {
        "colab": {
          "base_uri": "https://localhost:8080/"
        },
        "id": "nHAnPt1d2qqq",
        "outputId": "4fa351fe-3717-4e97-bf19-d74109644e93"
      },
      "source": [
        "#Substitui o primeiro elemento da lista\n",
        "animais[0] = \"papagaio\"\n",
        "animais"
      ],
      "execution_count": null,
      "outputs": [
        {
          "output_type": "execute_result",
          "data": {
            "text/plain": [
              "['papagaio', 'gato', 12345, 6.5]"
            ]
          },
          "metadata": {},
          "execution_count": 5
        }
      ]
    },
    {
      "cell_type": "code",
      "metadata": {
        "colab": {
          "base_uri": "https://localhost:8080/"
        },
        "id": "mFcF3HWG3CNg",
        "outputId": "8acaab3f-9265-4cbc-fc2f-596e07b25ff8"
      },
      "source": [
        "#Remove um item específico da lista\n",
        "animais.remove('gato')\n",
        "animais"
      ],
      "execution_count": null,
      "outputs": [
        {
          "output_type": "execute_result",
          "data": {
            "text/plain": [
              "['papagaio', 12345, 6.5]"
            ]
          },
          "metadata": {},
          "execution_count": 6
        }
      ]
    },
    {
      "cell_type": "code",
      "metadata": {
        "colab": {
          "base_uri": "https://localhost:8080/"
        },
        "id": "5Icko4fT4fJ8",
        "outputId": "9eee5299-f1fd-4b82-ee74-952b3781168b"
      },
      "source": [
        "#Verifica o tamanho da lista\n",
        "len(animais)"
      ],
      "execution_count": null,
      "outputs": [
        {
          "output_type": "execute_result",
          "data": {
            "text/plain": [
              "3"
            ]
          },
          "metadata": {},
          "execution_count": 7
        }
      ]
    },
    {
      "cell_type": "code",
      "metadata": {
        "colab": {
          "base_uri": "https://localhost:8080/"
        },
        "id": "KI7lUCvO4fGc",
        "outputId": "f6c723e3-d31d-4aa9-fcbd-994970321264"
      },
      "source": [
        "#Verifica se um elemento específico está na lista\n",
        "'gato' in animais"
      ],
      "execution_count": null,
      "outputs": [
        {
          "output_type": "execute_result",
          "data": {
            "text/plain": [
              "False"
            ]
          },
          "metadata": {},
          "execution_count": 8
        }
      ]
    },
    {
      "cell_type": "code",
      "metadata": {
        "id": "LYIALf9-4eX8"
      },
      "source": [
        "lista = [500,30,300,80,10]"
      ],
      "execution_count": null,
      "outputs": []
    },
    {
      "cell_type": "code",
      "metadata": {
        "colab": {
          "base_uri": "https://localhost:8080/"
        },
        "id": "SQamPdis5mD4",
        "outputId": "12ec88fc-aa7f-4a55-cf23-e4d1aaf5869f"
      },
      "source": [
        "max(lista)"
      ],
      "execution_count": null,
      "outputs": [
        {
          "output_type": "execute_result",
          "data": {
            "text/plain": [
              "500"
            ]
          },
          "metadata": {},
          "execution_count": 10
        }
      ]
    },
    {
      "cell_type": "code",
      "metadata": {
        "colab": {
          "base_uri": "https://localhost:8080/"
        },
        "id": "yh_1idnO5mBD",
        "outputId": "44d0c37e-9104-45be-bde0-3ccdcc48ca02"
      },
      "source": [
        "min(lista)"
      ],
      "execution_count": null,
      "outputs": [
        {
          "output_type": "execute_result",
          "data": {
            "text/plain": [
              "10"
            ]
          },
          "metadata": {},
          "execution_count": 11
        }
      ]
    },
    {
      "cell_type": "code",
      "metadata": {
        "colab": {
          "base_uri": "https://localhost:8080/"
        },
        "id": "6nS-GPr75l9w",
        "outputId": "e3e206b0-80da-4102-977f-80d134992d4d"
      },
      "source": [
        "#Insere um elemento ao final da lista\n",
        "animais.append('leão')\n",
        "animais"
      ],
      "execution_count": null,
      "outputs": [
        {
          "output_type": "execute_result",
          "data": {
            "text/plain": [
              "['papagaio', 12345, 6.5, 'leão']"
            ]
          },
          "metadata": {},
          "execution_count": 12
        }
      ]
    },
    {
      "cell_type": "code",
      "metadata": {
        "colab": {
          "base_uri": "https://localhost:8080/"
        },
        "id": "vhMiBijW5l6h",
        "outputId": "7fd21aa9-869e-4db2-ef03-e9811358f51c"
      },
      "source": [
        "# Insere vários elementos ao final da lista\n",
        "animais.extend(['cobra', 6])\n",
        "animais"
      ],
      "execution_count": null,
      "outputs": [
        {
          "output_type": "execute_result",
          "data": {
            "text/plain": [
              "['papagaio', 12345, 6.5, 'leão', 'cobra', 6]"
            ]
          },
          "metadata": {},
          "execution_count": 13
        }
      ]
    },
    {
      "cell_type": "code",
      "metadata": {
        "colab": {
          "base_uri": "https://localhost:8080/"
        },
        "id": "SZS18TX-5l3g",
        "outputId": "be4fac9a-2a53-4ab0-ce5f-418452729437"
      },
      "source": [
        "# Lista aninhada\n",
        "animais.append(['cachorro','leão'])\n",
        "animais"
      ],
      "execution_count": null,
      "outputs": [
        {
          "output_type": "execute_result",
          "data": {
            "text/plain": [
              "['papagaio', 12345, 6.5, 'leão', 'cobra', 6, ['cachorro', 'leão']]"
            ]
          },
          "metadata": {},
          "execution_count": 14
        }
      ]
    },
    {
      "cell_type": "code",
      "metadata": {
        "colab": {
          "base_uri": "https://localhost:8080/"
        },
        "id": "KcNFbE1o6VmI",
        "outputId": "e003e516-138c-4985-84ba-e659179329ff"
      },
      "source": [
        "animais.count('cachorro')"
      ],
      "execution_count": null,
      "outputs": [
        {
          "output_type": "execute_result",
          "data": {
            "text/plain": [
              "0"
            ]
          },
          "metadata": {},
          "execution_count": 15
        }
      ]
    },
    {
      "cell_type": "code",
      "metadata": {
        "colab": {
          "base_uri": "https://localhost:8080/"
        },
        "id": "pAFiz6cn6Vh2",
        "outputId": "6b8243a8-fa64-4ffc-cc75-24af20056152"
      },
      "source": [
        "lista.sort()\n",
        "lista"
      ],
      "execution_count": null,
      "outputs": [
        {
          "output_type": "execute_result",
          "data": {
            "text/plain": [
              "[10, 30, 80, 300, 500]"
            ]
          },
          "metadata": {},
          "execution_count": 16
        }
      ]
    },
    {
      "cell_type": "markdown",
      "metadata": {
        "id": "DVNSHgkV7hDb"
      },
      "source": [
        "### Tuplas"
      ]
    },
    {
      "cell_type": "code",
      "metadata": {
        "colab": {
          "base_uri": "https://localhost:8080/"
        },
        "id": "bfyTaJxb6VeO",
        "outputId": "6b03a9f7-6463-476d-d0ae-e28df037dd55"
      },
      "source": [
        "# As tuplas usam parênteses como sítaxe\n",
        "tp = ('Banana', 'Maçã', 10, 50)\n",
        "tp"
      ],
      "execution_count": null,
      "outputs": [
        {
          "output_type": "execute_result",
          "data": {
            "text/plain": [
              "('Banana', 'Maçã', 10, 50)"
            ]
          },
          "metadata": {},
          "execution_count": 17
        }
      ]
    },
    {
      "cell_type": "code",
      "metadata": {
        "colab": {
          "base_uri": "https://localhost:8080/",
          "height": 35
        },
        "id": "khc-723S6Va3",
        "outputId": "b8b5f13e-9218-480b-c8c1-9282d6b74438"
      },
      "source": [
        "#Imprime o primeiro elemento da tupla\n",
        "tp[0]"
      ],
      "execution_count": null,
      "outputs": [
        {
          "output_type": "execute_result",
          "data": {
            "application/vnd.google.colaboratory.intrinsic+json": {
              "type": "string"
            },
            "text/plain": [
              "'Banana'"
            ]
          },
          "metadata": {},
          "execution_count": 18
        }
      ]
    },
    {
      "cell_type": "code",
      "metadata": {
        "colab": {
          "base_uri": "https://localhost:8080/",
          "height": 52
        },
        "id": "pn9gDTLe6VX2",
        "outputId": "94d8de17-a774-48f0-d6e0-f499cde8d952"
      },
      "source": [
        "# Diferente das listas as tuplas são imutávies\n",
        "# O que quer dizer que não podemos alterar os seus elementos\n",
        "'''\n",
        "tp[0] = \"laranja\" <===| ERRO |\n",
        "'tuple' object does not support item assingment\\n\n",
        "''' "
      ],
      "execution_count": null,
      "outputs": [
        {
          "output_type": "execute_result",
          "data": {
            "application/vnd.google.colaboratory.intrinsic+json": {
              "type": "string"
            },
            "text/plain": [
              "'\"\\n\"\\ntp[0] = \"laranja\" <===| ERRO |\\n\\'tuple\\' object does not support item assingment\\n\\n'"
            ]
          },
          "metadata": {},
          "execution_count": 25
        }
      ]
    },
    {
      "cell_type": "code",
      "metadata": {
        "colab": {
          "base_uri": "https://localhost:8080/"
        },
        "id": "LgIh69rA8qKQ",
        "outputId": "e6de3681-df54-44fc-9fb4-bdbaf203a8a0"
      },
      "source": [
        "tp.count('Maçã')"
      ],
      "execution_count": null,
      "outputs": [
        {
          "output_type": "execute_result",
          "data": {
            "text/plain": [
              "1"
            ]
          },
          "metadata": {},
          "execution_count": 20
        }
      ]
    },
    {
      "cell_type": "code",
      "metadata": {
        "colab": {
          "base_uri": "https://localhost:8080/"
        },
        "id": "pQqjcKM0__Pf",
        "outputId": "054d3f66-7da4-4314-e07f-bcc86f9b123b"
      },
      "source": [
        "tp[:2]"
      ],
      "execution_count": null,
      "outputs": [
        {
          "output_type": "execute_result",
          "data": {
            "text/plain": [
              "('Banana', 'Maçã')"
            ]
          },
          "metadata": {},
          "execution_count": 24
        }
      ]
    },
    {
      "cell_type": "markdown",
      "metadata": {
        "id": "sL_jAUIgASkW"
      },
      "source": [
        "### Dicionários"
      ]
    },
    {
      "cell_type": "code",
      "metadata": {
        "colab": {
          "base_uri": "https://localhost:8080/"
        },
        "id": "9qFsJBuQ__Lu",
        "outputId": "6bb923ec-e807-40ee-f736-5a8d67232742"
      },
      "source": [
        "# Os dicionários usam chaves {} como sítaxe\n",
        "# Trabalham com o conceito chave e valor\n",
        "dc = {\"Maçã\":20, \"Banana\":10, \"Laranja\":15,\"Uva\":5}\n",
        "dc"
      ],
      "execution_count": null,
      "outputs": [
        {
          "output_type": "execute_result",
          "data": {
            "text/plain": [
              "{'Banana': 10, 'Laranja': 15, 'Maçã': 20, 'Uva': 5}"
            ]
          },
          "metadata": {},
          "execution_count": 26
        }
      ]
    },
    {
      "cell_type": "code",
      "metadata": {
        "colab": {
          "base_uri": "https://localhost:8080/"
        },
        "id": "uMABbLAb_-7e",
        "outputId": "ee1f7779-a064-4051-8254-75f48fb3ee6a"
      },
      "source": [
        "# Acessa o valor de um dicionário através da chave\n",
        "dc[\"Maçã\"]"
      ],
      "execution_count": null,
      "outputs": [
        {
          "output_type": "execute_result",
          "data": {
            "text/plain": [
              "20"
            ]
          },
          "metadata": {},
          "execution_count": 27
        }
      ]
    },
    {
      "cell_type": "code",
      "metadata": {
        "colab": {
          "base_uri": "https://localhost:8080/"
        },
        "id": "qLLTC8Fh_-wu",
        "outputId": "7080cbab-29c5-496c-d001-e2e5ac742968"
      },
      "source": [
        "# Atualiza o valor da chave 'Maçã'\n",
        "dc['Maçã'] = 25\n",
        "dc"
      ],
      "execution_count": null,
      "outputs": [
        {
          "output_type": "execute_result",
          "data": {
            "text/plain": [
              "{'Banana': 10, 'Laranja': 15, 'Maçã': 25, 'Uva': 5}"
            ]
          },
          "metadata": {},
          "execution_count": 28
        }
      ]
    },
    {
      "cell_type": "code",
      "metadata": {
        "colab": {
          "base_uri": "https://localhost:8080/"
        },
        "id": "qRSYm-ztB4vZ",
        "outputId": "c96d06f4-5ed9-44c2-faac-f33b1c042eea"
      },
      "source": [
        "# Retorna todoas as chaves do dicionários\n",
        "dc.keys()"
      ],
      "execution_count": null,
      "outputs": [
        {
          "output_type": "execute_result",
          "data": {
            "text/plain": [
              "dict_keys(['Maçã', 'Banana', 'Laranja', 'Uva'])"
            ]
          },
          "metadata": {},
          "execution_count": 29
        }
      ]
    },
    {
      "cell_type": "code",
      "metadata": {
        "colab": {
          "base_uri": "https://localhost:8080/"
        },
        "id": "ErZYIGoeB4sI",
        "outputId": "c5c6dcb5-e1ca-450f-a6d8-e4efba8175d7"
      },
      "source": [
        "# Retorna os valores do dicionário\n",
        "dc.values()"
      ],
      "execution_count": null,
      "outputs": [
        {
          "output_type": "execute_result",
          "data": {
            "text/plain": [
              "dict_values([25, 10, 15, 5])"
            ]
          },
          "metadata": {},
          "execution_count": 30
        }
      ]
    },
    {
      "cell_type": "code",
      "metadata": {
        "colab": {
          "base_uri": "https://localhost:8080/"
        },
        "id": "2WpdgxKJB4or",
        "outputId": "ca7f4919-7972-4d13-c6a1-4df3aeb70c23"
      },
      "source": [
        "# Verifica se já exite uma chave no dicionário\n",
        "# Caso não exista, insere a chave específica com o valor default\n",
        "dc.setdefault('Limão', 22)\n",
        "dc"
      ],
      "execution_count": null,
      "outputs": [
        {
          "output_type": "execute_result",
          "data": {
            "text/plain": [
              "{'Banana': 10, 'Laranja': 15, 'Limão': 22, 'Maçã': 25, 'Uva': 5}"
            ]
          },
          "metadata": {},
          "execution_count": 32
        }
      ]
    },
    {
      "cell_type": "markdown",
      "metadata": {
        "id": "dnjWcOYx1SFG"
      },
      "source": [
        "FIM"
      ]
    }
  ]
}